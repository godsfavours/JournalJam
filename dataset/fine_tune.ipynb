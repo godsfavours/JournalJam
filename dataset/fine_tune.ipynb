{
 "cells": [
  {
   "cell_type": "code",
   "execution_count": 1,
   "metadata": {},
   "outputs": [],
   "source": [
    "from openai import OpenAI"
   ]
  },
  {
   "cell_type": "code",
   "execution_count": 6,
   "metadata": {},
   "outputs": [],
   "source": [
    "client = OpenAI()"
   ]
  },
  {
   "cell_type": "code",
   "execution_count": 8,
   "metadata": {},
   "outputs": [
    {
     "data": {
      "text/plain": [
       "FileObject(id='file-4qyfnEkzrZZpOtd4W0px0VyB', bytes=71942, created_at=1709873904, filename='fine_tuning_dataset.jsonl', object='file', purpose='fine-tune', status='processed', status_details=None)"
      ]
     },
     "execution_count": 8,
     "metadata": {},
     "output_type": "execute_result"
    }
   ],
   "source": [
    "client.files.create(\n",
    "  file=open(\"fine_tuning_dataset.jsonl\", \"rb\"),\n",
    "  purpose=\"fine-tune\"\n",
    ")"
   ]
  },
  {
   "cell_type": "code",
   "execution_count": 9,
   "metadata": {},
   "outputs": [
    {
     "data": {
      "text/plain": [
       "FineTuningJob(id='ftjob-BLd5CmepJMQV8OhLEu2cmx1U', created_at=1709874011, error=Error(code=None, message=None, param=None, error=None), fine_tuned_model=None, finished_at=None, hyperparameters=Hyperparameters(n_epochs='auto', batch_size='auto', learning_rate_multiplier='auto'), model='gpt-3.5-turbo-0125', object='fine_tuning.job', organization_id='org-JMLBE3i0OpaqjDU4j9UtAgSf', result_files=[], status='validating_files', trained_tokens=None, training_file='file-4qyfnEkzrZZpOtd4W0px0VyB', validation_file=None, user_provided_suffix=None)"
      ]
     },
     "execution_count": 9,
     "metadata": {},
     "output_type": "execute_result"
    }
   ],
   "source": [
    "client.fine_tuning.jobs.create(\n",
    "  training_file=\"file-4qyfnEkzrZZpOtd4W0px0VyB\", \n",
    "  model=\"gpt-3.5-turbo\"\n",
    ")"
   ]
  },
  {
   "cell_type": "code",
   "execution_count": 22,
   "metadata": {},
   "outputs": [
    {
     "name": "stdout",
     "output_type": "stream",
     "text": [
      "FineTuningJobEvent(id='ftevent-ZcEtFkU7kszpCR3qSJsemZWK', created_at=1709874011, level='info', message='Created fine-tuning job: ftjob-BLd5CmepJMQV8OhLEu2cmx1U', object='fine_tuning.job.event', data={}, type='message') \n",
      "\n",
      "FineTuningJobEvent(id='ftevent-tnJjtaDsjOTSXWOBo0Kr1DFJ', created_at=1709874011, level='info', message='Validating training file: file-4qyfnEkzrZZpOtd4W0px0VyB', object='fine_tuning.job.event', data={}, type='message') \n",
      "\n",
      "FineTuningJobEvent(id='ftevent-3m1LnwwXocIZnREfANugo8wT', created_at=1709874034, level='info', message='Files validated, moving job to queued state', object='fine_tuning.job.event', data={}, type='message') \n",
      "\n",
      "FineTuningJobEvent(id='ftevent-g8YY5VFGVDrOs44MesE4Mv14', created_at=1709874034, level='info', message='Fine-tuning job started', object='fine_tuning.job.event', data=None, type='message') \n",
      "\n",
      "FineTuningJobEvent(id='ftevent-NTQAAcnVvj4Csx2W7Y4fhyJo', created_at=1709874115, level='info', message='Step 1/100: training loss=1.63', object='fine_tuning.job.event', data={'step': 1, 'train_loss': 1.6299848556518555, 'total_steps': 100, 'train_mean_token_accuracy': 0.6767676472663879}, type='metrics') \n",
      "\n",
      "FineTuningJobEvent(id='ftevent-8bz6Ntg7T9Acgn9juyjJcDFU', created_at=1709874140, level='info', message='Step 11/100: training loss=1.65', object='fine_tuning.job.event', data={'step': 11, 'train_loss': 1.646895408630371, 'total_steps': 100, 'train_mean_token_accuracy': 0.5929203629493713}, type='metrics') \n",
      "\n",
      "FineTuningJobEvent(id='ftevent-M2z3OmuAUB6hXaRUTwsaiuAq', created_at=1709874162, level='info', message='Step 21/100: training loss=1.58', object='fine_tuning.job.event', data={'step': 21, 'train_loss': 1.5786932706832886, 'total_steps': 100, 'train_mean_token_accuracy': 0.6574074029922485}, type='metrics') \n",
      "\n",
      "FineTuningJobEvent(id='ftevent-tyrCZe08pCV6fp3031FikvQO', created_at=1709874182, level='info', message='Step 31/100: training loss=1.02', object='fine_tuning.job.event', data={'step': 31, 'train_loss': 1.0235809087753296, 'total_steps': 100, 'train_mean_token_accuracy': 0.6764705777168274}, type='metrics') \n",
      "\n",
      "FineTuningJobEvent(id='ftevent-ViGLsJELGHIlakCvzum30ZO9', created_at=1709874204, level='info', message='Step 41/100: training loss=1.23', object='fine_tuning.job.event', data={'step': 41, 'train_loss': 1.2292842864990234, 'total_steps': 100, 'train_mean_token_accuracy': 0.6696428656578064}, type='metrics') \n",
      "\n",
      "FineTuningJobEvent(id='ftevent-VMKtdfJsValYStQXXRqVS5jP', created_at=1709874224, level='info', message='Step 51/100: training loss=1.47', object='fine_tuning.job.event', data={'step': 51, 'train_loss': 1.4688491821289062, 'total_steps': 100, 'train_mean_token_accuracy': 0.6120689511299133}, type='metrics') \n",
      "\n",
      "FineTuningJobEvent(id='ftevent-H3eB7r5t5olW6E2jW3TmED2X', created_at=1709874246, level='info', message='Step 61/100: training loss=0.93', object='fine_tuning.job.event', data={'step': 61, 'train_loss': 0.9337843656539917, 'total_steps': 100, 'train_mean_token_accuracy': 0.6909090876579285}, type='metrics') \n",
      "\n",
      "FineTuningJobEvent(id='ftevent-8Hrjtv9bGBmn1TvvYPAZB0h9', created_at=1709874271, level='info', message='Step 71/100: training loss=1.15', object='fine_tuning.job.event', data={'step': 71, 'train_loss': 1.1517244577407837, 'total_steps': 100, 'train_mean_token_accuracy': 0.6785714030265808}, type='metrics') \n",
      "\n",
      "FineTuningJobEvent(id='ftevent-Xt8ArFwMb0ZgJlWRap4r1cvd', created_at=1709874291, level='info', message='Step 81/100: training loss=1.31', object='fine_tuning.job.event', data={'step': 81, 'train_loss': 1.3066171407699585, 'total_steps': 100, 'train_mean_token_accuracy': 0.7407407164573669}, type='metrics') \n",
      "\n",
      "FineTuningJobEvent(id='ftevent-bwvLg1QHnoNqhF52Z7y103Pk', created_at=1709874311, level='info', message='Step 91/100: training loss=1.26', object='fine_tuning.job.event', data={'step': 91, 'train_loss': 1.258226752281189, 'total_steps': 100, 'train_mean_token_accuracy': 0.7037037014961243}, type='metrics') \n",
      "\n",
      "FineTuningJobEvent(id='ftevent-L9mfzIuQoifKTllkenAzum5Q', created_at=1709874334, level='info', message='New fine-tuned model created: ft:gpt-3.5-turbo-0125:personal::90MiERqQ', object='fine_tuning.job.event', data={}, type='message') \n",
      "\n",
      "FineTuningJobEvent(id='ftevent-Lnwex85BxB2nE4mYkthG4CQ7', created_at=1709874336, level='info', message='The job has successfully completed', object='fine_tuning.job.event', data={}, type='message') \n",
      "\n"
     ]
    }
   ],
   "source": [
    "status = client.fine_tuning.jobs.list_events(fine_tuning_job_id=\"ftjob-BLd5CmepJMQV8OhLEu2cmx1U\", limit=50)\n",
    "for event in reversed(status.data):\n",
    "    print(event, '\\n')"
   ]
  },
  {
   "cell_type": "code",
   "execution_count": 19,
   "metadata": {},
   "outputs": [
    {
     "name": "stdout",
     "output_type": "stream",
     "text": [
      "FineTuningJob(id='ftjob-BLd5CmepJMQV8OhLEu2cmx1U', created_at=1709874011, error=Error(code=None, message=None, param=None, error=None), fine_tuned_model='ft:gpt-3.5-turbo-0125:personal::90MiERqQ', finished_at=1709874333, hyperparameters=Hyperparameters(n_epochs=4, batch_size=1, learning_rate_multiplier=2), model='gpt-3.5-turbo-0125', object='fine_tuning.job', organization_id='org-JMLBE3i0OpaqjDU4j9UtAgSf', result_files=['file-sUvep0h6Xo4faAAJZEQ8G8rK'], status='succeeded', trained_tokens=57284, training_file='file-4qyfnEkzrZZpOtd4W0px0VyB', validation_file=None, user_provided_suffix=None)\n"
     ]
    }
   ],
   "source": [
    "state = client.fine_tuning.jobs.retrieve(\"ftjob-BLd5CmepJMQV8OhLEu2cmx1U\")\n",
    "print(state)"
   ]
  },
  {
   "cell_type": "code",
   "execution_count": 21,
   "metadata": {},
   "outputs": [
    {
     "name": "stdout",
     "output_type": "stream",
     "text": [
      "Fine-tuned model ID\n",
      "=====================\n",
      "ft:gpt-3.5-turbo-0125:personal::90MiERqQ\n"
     ]
    }
   ],
   "source": [
    "print(f\"Fine-tuned model ID\\n=====================\\n{state.fine_tuned_model}\")"
   ]
  }
 ],
 "metadata": {
  "kernelspec": {
   "display_name": ".venv",
   "language": "python",
   "name": "python3"
  },
  "language_info": {
   "codemirror_mode": {
    "name": "ipython",
    "version": 3
   },
   "file_extension": ".py",
   "mimetype": "text/x-python",
   "name": "python",
   "nbconvert_exporter": "python",
   "pygments_lexer": "ipython3",
   "version": "3.10.3"
  }
 },
 "nbformat": 4,
 "nbformat_minor": 2
}
