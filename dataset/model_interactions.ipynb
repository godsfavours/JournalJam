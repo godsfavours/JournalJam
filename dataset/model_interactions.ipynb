{
 "cells": [
  {
   "cell_type": "code",
   "execution_count": 4,
   "metadata": {},
   "outputs": [],
   "source": [
    "from openai import OpenAI"
   ]
  },
  {
   "cell_type": "code",
   "execution_count": 5,
   "metadata": {},
   "outputs": [],
   "source": [
    "client = OpenAI()"
   ]
  },
  {
   "cell_type": "code",
   "execution_count": 12,
   "metadata": {},
   "outputs": [
    {
     "name": "stdout",
     "output_type": "stream",
     "text": [
      "1. How do you usually handle unexpected surprises or changes in your plans?\n",
      "2. What strategies have you found helpful in maintaining a balance between work and personal connections, especially when life gets busy?\n",
      "3. In what ways do you think this unexpected phone call from an old friend impacted your day and outlook?\n",
      "4. Can you think of any small or large hints that yesterday's experiences would leave you reflecting back on them from now?\n",
      "5. Have you been in touch with anyone you used to know in the present day and, if so, how have those changes been since last speaking?\n",
      "6. Do you think maintaining relationships, even when they require more of your own perspective, is more important due to the explosive lifespan of friendships?\n"
     ]
    }
   ],
   "source": [
    "completion = client.chat.completions.create(\n",
    "  model=\"ft:gpt-3.5-turbo-0125:personal::90MiERqQ\",\n",
    "  messages=[\n",
    "    {\"role\": \"system\", \"content\": \"You are an assistant geared towards helping users overcome writer's block when writing journal entries. When given the text from a user's past journal entry, you are to respond with six questions (and only the questions) to help the user with writing their next journal entry.\"},\n",
    "    {\"role\": \"user\", \"content\": \"Here are previous journal entries from a user:\\nToday was a day filled with unexpected twists and turns, yet it turned out to be quite fulfilling in its own right. The morning began with a sense of anticipation, as I had planned to tackle a long list of tasks, both professional and personal. As I sipped my morning coffee, I took a moment to review my schedule and set my intentions for the day. Little did I know that fate had other plans in store. The first surprise of the day came in the form of a phone call from an old friend whom I hadn't spoken to in years. Hearing their voice filled me with nostalgia and joy, as we reminisced about shared memories and caught up on each other's lives. It was a reminder of the importance of nurturing relationships and staying connected, even when life gets busy. After bidding farewell to my friend, I delved into my work, tackling projects with focus and determination. However, the day had more surprises in store for me. A sudden power outage disrupted my workflow, forcing me to adapt and find creative solutions to keep moving forward. Despite the challenges, I found solace in the beauty of the unplanned moments. As the day drew to a close, I reflected on the lessons learned: the importance of flexibility, the value of human connection, and the beauty of embracing the unexpected. Now, as I pen down these words, I am filled with gratitude for the experiences of the day, both the planned and the spontaneous. Life has a way of surprising us when we least expect it, and today, I am reminded to embrace each moment with open arms and an open heart.\\nBased on these entries, please generate a list of questions to further prompt the user about their state of being.\"}\n",
    "  ]\n",
    ")\n",
    "print(completion.choices[0].message.content)"
   ]
  }
 ],
 "metadata": {
  "kernelspec": {
   "display_name": ".venv",
   "language": "python",
   "name": "python3"
  },
  "language_info": {
   "codemirror_mode": {
    "name": "ipython",
    "version": 3
   },
   "file_extension": ".py",
   "mimetype": "text/x-python",
   "name": "python",
   "nbconvert_exporter": "python",
   "pygments_lexer": "ipython3",
   "version": "3.10.11"
  }
 },
 "nbformat": 4,
 "nbformat_minor": 2
}
