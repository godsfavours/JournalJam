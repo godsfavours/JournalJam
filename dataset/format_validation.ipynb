{
 "cells": [
  {
   "cell_type": "code",
   "execution_count": 3,
   "metadata": {},
   "outputs": [],
   "source": [
    "import json\n",
    "from collections import defaultdict"
   ]
  },
  {
   "cell_type": "code",
   "execution_count": 4,
   "metadata": {},
   "outputs": [
    {
     "name": "stdout",
     "output_type": "stream",
     "text": [
      "Num examples: 25\n",
      "First example:\n",
      "{'role': 'system', 'content': \"You are an assistant geared towards helping users overcome writer's block when writing journal entries. When given the text from a user's past journal entry, you are to respond with questions to help the user with writing their next journal entry.\"}\n",
      "{'role': 'user', 'content': \"Here are previous journal entries from a user:\\nToday was a day filled with unexpected twists and turns, yet it turned out to be quite fulfilling in its own right. The morning began with a sense of anticipation, as I had planned to tackle a long list of tasks, both professional and personal. As I sipped my morning coffee, I took a moment to review my schedule and set my intentions for the day. Little did I know that fate had other plans in store. The first surprise of the day came in the form of a phone call from an old friend whom I hadn't spoken to in years. Hearing their voice filled me with nostalgia and joy, as we reminisced about shared memories and caught up on each other's lives. It was a reminder of the importance of nurturing relationships and staying connected, even when life gets busy. After bidding farewell to my friend, I delved into my work, tackling projects with focus and determination. However, the day had more surprises in store for me. A sudden power outage disrupted my workflow, forcing me to adapt and find creative solutions to keep moving forward. Despite the challenges, I found solace in the beauty of the unplanned moments. As the day drew to a close, I reflected on the lessons learned: the importance of flexibility, the value of human connection, and the beauty of embracing the unexpected. Now, as I pen down these words, I am filled with gratitude for the experiences of the day, both the planned and the spontaneous. Life has a way of surprising us when we least expect it, and today, I am reminded to embrace each moment with open arms and an open heart.\\nBased on these entries, please generate a list of questions to further prompt the user about their state of being.\"}\n",
      "{'role': 'assistant', 'content': \"1. What concrete steps do you plan on taking to continue prioritizing nurturing relationships even when things get busy?\\n2. What are some events or people that you feel grateful for today?\\n3. How do you plan to incorporate the lessons learned from this day's experiences into your future approach to both planned and spontaneous events?\\n4. Do you feel that unexpected events added or detracted from your overall sense of fulfillment?\\n5. Did the experiences of the day teach you anything new about yourself or your ability to handle unexpected situations?\\n6. After catching up with this old friend, is there anyone else on your mind you hope to reach out to?\"}\n"
     ]
    }
   ],
   "source": [
    "data_path = \"fine_tuning_dataset.jsonl\"\n",
    "\n",
    "# Load the dataset\n",
    "with open(data_path, 'r', encoding='utf-8') as f:\n",
    "    dataset = [json.loads(line) for line in f]\n",
    "\n",
    "# Initial dataset stats\n",
    "print(\"Num examples:\", len(dataset))\n",
    "print(\"First example:\")\n",
    "for message in dataset[0][\"messages\"]:\n",
    "    print(message)"
   ]
  },
  {
   "cell_type": "code",
   "execution_count": 5,
   "metadata": {},
   "outputs": [
    {
     "name": "stdout",
     "output_type": "stream",
     "text": [
      "No errors found\n"
     ]
    }
   ],
   "source": [
    "format_errors = defaultdict(int)\n",
    "\n",
    "for ex in dataset:\n",
    "    if not isinstance(ex, dict):\n",
    "        format_errors[\"data_type\"] += 1\n",
    "        continue\n",
    "        \n",
    "    messages = ex.get(\"messages\", None)\n",
    "    if not messages:\n",
    "        format_errors[\"missing_messages_list\"] += 1\n",
    "        continue\n",
    "        \n",
    "    for message in messages:\n",
    "        if \"role\" not in message or \"content\" not in message:\n",
    "            format_errors[\"message_missing_key\"] += 1\n",
    "        \n",
    "        if any(k not in (\"role\", \"content\", \"name\", \"function_call\", \"weight\") for k in message):\n",
    "            format_errors[\"message_unrecognized_key\"] += 1\n",
    "        \n",
    "        if message.get(\"role\", None) not in (\"system\", \"user\", \"assistant\", \"function\"):\n",
    "            format_errors[\"unrecognized_role\"] += 1\n",
    "            \n",
    "        content = message.get(\"content\", None)\n",
    "        function_call = message.get(\"function_call\", None)\n",
    "        \n",
    "        if (not content and not function_call) or not isinstance(content, str):\n",
    "            format_errors[\"missing_content\"] += 1\n",
    "    \n",
    "    if not any(message.get(\"role\", None) == \"assistant\" for message in messages):\n",
    "        format_errors[\"example_missing_assistant_message\"] += 1\n",
    "\n",
    "if format_errors:\n",
    "    print(\"Found errors:\")\n",
    "    for k, v in format_errors.items():\n",
    "        print(f\"{k}: {v}\")\n",
    "else:\n",
    "    print(\"No errors found\")"
   ]
  }
 ],
 "metadata": {
  "kernelspec": {
   "display_name": ".venv",
   "language": "python",
   "name": "python3"
  },
  "language_info": {
   "codemirror_mode": {
    "name": "ipython",
    "version": 3
   },
   "file_extension": ".py",
   "mimetype": "text/x-python",
   "name": "python",
   "nbconvert_exporter": "python",
   "pygments_lexer": "ipython3",
   "version": "3.10.3"
  }
 },
 "nbformat": 4,
 "nbformat_minor": 2
}
